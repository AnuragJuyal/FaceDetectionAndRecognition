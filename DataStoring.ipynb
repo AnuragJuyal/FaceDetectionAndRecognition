{
 "cells": [
  {
   "cell_type": "code",
   "execution_count": 1,
   "id": "b23d59a1",
   "metadata": {},
   "outputs": [],
   "source": [
    "import cv2\n",
    "import numpy as np\n",
    "import matplotlib.pyplot as plt\n",
    "model=cv2.CascadeClassifier(\"raw.githubusercontent.com_opencv_opencv_4.x_data_haarcascades_haarcascade_frontalface_alt.xml\")\n"
   ]
  },
  {
   "cell_type": "code",
   "execution_count": 2,
   "id": "d50ddba3",
   "metadata": {},
   "outputs": [
    {
     "name": "stdout",
     "output_type": "stream",
     "text": [
      "Enter name of the person :Anurag\n",
      "Data Saved Successfully./data/Anurag.npy\n"
     ]
    }
   ],
   "source": [
    "camera=cv2.VideoCapture(0)\n",
    "filename=input(\"Enter name of the person :\")\n",
    "dataset_path=\"./data/\"\n",
    "offset=30\n",
    "faceData=[]\n",
    "count=0\n",
    "skip=0\n",
    "while count<10:\n",
    "    success,img=camera.read()\n",
    "    if not success:\n",
    "        print(\"Reading Camera Failed\")\n",
    "        break\n",
    "    faces=model.detectMultiScale(img,1.3,2)\n",
    "    \n",
    "    faces=sorted(faces,key=lambda f:f[2]*f[3])\n",
    "    if len(faces)>0:\n",
    "        f =faces[-1]\n",
    "        x,y,w,h=f\n",
    "        cv2.rectangle(img,(x,y),(x+w,y+h),(250,250,50),2)\n",
    "        cropped_face=img[y-offset:y+h+offset,x-offset:x+w+offset]\n",
    "        cropped_face=cv2.resize(cropped_face,(100,100))\n",
    "        skip+=1\n",
    "        if skip%10==0:\n",
    "            count+=1\n",
    "            faceData.append(cropped_face)\n",
    "    cv2.imshow(\"Image Window\",img)\n",
    "    key=cv2.waitKey(1)\n",
    "    \n",
    "    if key==ord('q'):\n",
    "        break\n",
    "camera.release()\n",
    "cv2.destroyAllWindows()\n",
    "faceData=np.asarray(faceData)\n",
    "m=faceData.shape[0]\n",
    "faceData=faceData.reshape((m,-1))\n",
    "filepath=dataset_path+filename+\".npy\"\n",
    "np.save(filepath,faceData)\n",
    "print(\"Data Saved Successfully\"+ filepath)"
   ]
  },
  {
   "cell_type": "code",
   "execution_count": 3,
   "id": "d0c937c3",
   "metadata": {},
   "outputs": [
    {
     "data": {
      "text/plain": [
       "(10, 30000)"
      ]
     },
     "execution_count": 3,
     "metadata": {},
     "output_type": "execute_result"
    }
   ],
   "source": [
    "faceData.shape"
   ]
  },
  {
   "cell_type": "code",
   "execution_count": null,
   "id": "2b9769b2",
   "metadata": {},
   "outputs": [],
   "source": []
  }
 ],
 "metadata": {
  "kernelspec": {
   "display_name": "Python 3 (ipykernel)",
   "language": "python",
   "name": "python3"
  },
  "language_info": {
   "codemirror_mode": {
    "name": "ipython",
    "version": 3
   },
   "file_extension": ".py",
   "mimetype": "text/x-python",
   "name": "python",
   "nbconvert_exporter": "python",
   "pygments_lexer": "ipython3",
   "version": "3.10.9"
  }
 },
 "nbformat": 4,
 "nbformat_minor": 5
}
